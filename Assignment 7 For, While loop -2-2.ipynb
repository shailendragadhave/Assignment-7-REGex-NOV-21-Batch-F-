{
 "cells": [
  {
   "cell_type": "code",
   "execution_count": 1,
   "id": "c1e640e6",
   "metadata": {},
   "outputs": [
    {
     "name": "stdout",
     "output_type": "stream",
     "text": [
      "* \n",
      "* * \n",
      "* * * \n",
      "* * * * \n",
      "* * * * * \n"
     ]
    }
   ],
   "source": [
    "for row in range(1,6):\n",
    "    #print(row)\n",
    "    for column in range(row):\n",
    "        print(\"*\",end=\" \")\n",
    "        #print(column)\n",
    "    print()"
   ]
  },
  {
   "cell_type": "code",
   "execution_count": 30,
   "id": "80480ce6",
   "metadata": {},
   "outputs": [
    {
     "name": "stdout",
     "output_type": "stream",
     "text": [
      "* * * * * \n",
      "* * * * \n",
      "* * * \n",
      "* * \n",
      "* \n"
     ]
    }
   ],
   "source": [
    "for row in range(5,0,-1):\n",
    "    #print(row)\n",
    "    for column in range(row):\n",
    "        print(\"*\",end=\" \")\n",
    "        #print(column)\n",
    "    print()\n"
   ]
  },
  {
   "cell_type": "code",
   "execution_count": 31,
   "id": "fd2feca0",
   "metadata": {},
   "outputs": [
    {
     "name": "stdout",
     "output_type": "stream",
     "text": [
      "* * * * * \n",
      "  * * * * \n",
      "    * * * \n",
      "      * * \n",
      "        * \n"
     ]
    }
   ],
   "source": [
    "# mirror pattern \n",
    "rows = 5\n",
    "i = rows\n",
    "while i >= 1:\n",
    "    j = rows\n",
    "    while j > i:\n",
    "        # display space\n",
    "        print(' ', end=' ')\n",
    "        j -= 1\n",
    "    k = 1\n",
    "    while k <= i:\n",
    "        print('*', end=' ')\n",
    "        k += 1\n",
    "    print()\n",
    "    i -= 1"
   ]
  },
  {
   "cell_type": "code",
   "execution_count": 2,
   "id": "3f86f7c9",
   "metadata": {},
   "outputs": [
    {
     "name": "stdout",
     "output_type": "stream",
     "text": [
      "Enter the number of rows7\n",
      "\n",
      "1 \n",
      "2 2 \n",
      "3 3 3 \n",
      "4 4 4 4 \n",
      "5 5 5 5 5 \n",
      "6 6 6 6 6 6 \n"
     ]
    }
   ],
   "source": [
    "rows = 6\n",
    "# if you want user to enter a number, uncomment the below line\n",
    "rows = int(input('Enter the number of rows'))\n",
    "# outer loop\n",
    "for i in range(rows):\n",
    "    # nested loop\n",
    "    for j in range(i):\n",
    "        # display number\n",
    "        print(i, end=' ')\n",
    "    # new line after each row\n",
    "    print('')"
   ]
  },
  {
   "cell_type": "code",
   "execution_count": 3,
   "id": "2e66b0e6",
   "metadata": {},
   "outputs": [
    {
     "name": "stdout",
     "output_type": "stream",
     "text": [
      "Enter the number of rows6\n",
      "\n",
      "0 \n",
      "0 1 \n",
      "0 1 2 \n",
      "0 1 2 3 \n",
      "0 1 2 3 4 \n"
     ]
    }
   ],
   "source": [
    "rows = 6\n",
    "# if you want user to enter a number, uncomment the below line\n",
    "rows = int(input('Enter the number of rows'))\n",
    "# outer loop\n",
    "for i in range(rows):\n",
    "    # nested loop\n",
    "    for j in range(i):\n",
    "        # display number\n",
    "        print(j, end=' ')\n",
    "    # new line after each row\n",
    "    print('')"
   ]
  },
  {
   "cell_type": "code",
   "execution_count": 4,
   "id": "7311522d",
   "metadata": {},
   "outputs": [
    {
     "name": "stdout",
     "output_type": "stream",
     "text": [
      "1 \n",
      "1 2 \n",
      "1 2 3 \n",
      "1 2 3 4 \n",
      "1 2 3 4 5 \n"
     ]
    }
   ],
   "source": [
    "rows = 5\n",
    "for i in range(1, rows + 1):\n",
    "    for j in range(1, i + 1):\n",
    "        print(j, end=' ')\n",
    "    print('')"
   ]
  },
  {
   "cell_type": "code",
   "execution_count": 5,
   "id": "371b85e4",
   "metadata": {},
   "outputs": [
    {
     "name": "stdout",
     "output_type": "stream",
     "text": [
      "1 1 1 1 1 \r\n",
      "2 2 2 2 \r\n",
      "3 3 3 \r\n",
      "4 4 \r\n",
      "5 \r\n"
     ]
    }
   ],
   "source": [
    "rows = 5\n",
    "b = 0\n",
    "# reverse for loop from 5 to 0\n",
    "for i in range(rows, 0, -1):\n",
    "    b += 1\n",
    "    for j in range(1, i + 1):\n",
    "        print(b, end=' ')\n",
    "    print('\\r')"
   ]
  },
  {
   "cell_type": "code",
   "execution_count": 6,
   "id": "aa6da2b3",
   "metadata": {},
   "outputs": [
    {
     "name": "stdout",
     "output_type": "stream",
     "text": [
      "5 5 5 5 5 \r\n",
      "5 5 5 5 \r\n",
      "5 5 5 \r\n",
      "5 5 \r\n",
      "5 \r\n"
     ]
    }
   ],
   "source": [
    "# inverterd pattern with same digit\n",
    "rows = 5\n",
    "num = rows\n",
    "#reverse for  loop\n",
    "for i in range(rows, 0, -1):\n",
    "# nested loop\n",
    "    for j in range(0, i):\n",
    "        print(num, end=' ')\n",
    "    print('\\r')"
   ]
  },
  {
   "cell_type": "code",
   "execution_count": 7,
   "id": "f7377fce",
   "metadata": {},
   "outputs": [
    {
     "name": "stdout",
     "output_type": "stream",
     "text": [
      "0 1 2 3 4 5 \r\n",
      "0 1 2 3 4 \r\n",
      "0 1 2 3 \r\n",
      "0 1 2 \r\n",
      "0 1 \r\n"
     ]
    }
   ],
   "source": [
    "# half inverted patten with numbers\n",
    "rows = 5\n",
    "for i in range(rows, 0, -1):\n",
    "    for j in range(0, i + 1):\n",
    "         print(j, end = ' ' )\n",
    "    print('\\r')"
   ]
  },
  {
   "cell_type": "code",
   "execution_count": 8,
   "id": "2d11369b",
   "metadata": {},
   "outputs": [
    {
     "name": "stdout",
     "output_type": "stream",
     "text": [
      "1 \n",
      "3 3 \n",
      "5 5 5 \n",
      "7 7 7 7 \n",
      "9 9 9 9 9 \n"
     ]
    }
   ],
   "source": [
    "#alterante number pattern using while loop \n",
    "rows = 5 \n",
    "i = 1\n",
    "while i <= rows:\n",
    "    j = 1\n",
    "    while j <= i:\n",
    "        print((i * 2 - 1), end = ' ')\n",
    "        j = j + 1\n",
    "    i = i + 1\n",
    "    print ()"
   ]
  },
  {
   "cell_type": "code",
   "execution_count": 9,
   "id": "336c302d",
   "metadata": {},
   "outputs": [
    {
     "name": "stdout",
     "output_type": "stream",
     "text": [
      "5 5 5 5 5 \r\n",
      "4 4 4 4 \r\n",
      "3 3 3 \r\n",
      "2 2 \r\n",
      "1 \r\n"
     ]
    }
   ],
   "source": [
    "#invered pattern of decending numbers \n",
    "rows = 5\n",
    "# reverse loop\n",
    "for i in range(rows, 0, -1):\n",
    "    num = i\n",
    "    for j in range(0, i):\n",
    "        print(num, end=' ')\n",
    "    print(\"\\r\")"
   ]
  },
  {
   "cell_type": "code",
   "execution_count": 10,
   "id": "7d539828",
   "metadata": {},
   "outputs": [
    {
     "name": "stdout",
     "output_type": "stream",
     "text": [
      "1  \n",
      "2 1  \n",
      "3 2 1  \n",
      "4 3 2 1  \n",
      "5 4 3 2 1  \n"
     ]
    }
   ],
   "source": [
    "# reverse pyramid of numbers \n",
    "rows = 6\n",
    "for row in range(1, rows):\n",
    "    for column in range(row, 0, -1):\n",
    "        print(column, end = ' ')\n",
    "    print(' ')"
   ]
  },
  {
   "cell_type": "code",
   "execution_count": 11,
   "id": "3b205529",
   "metadata": {},
   "outputs": [
    {
     "name": "stdout",
     "output_type": "stream",
     "text": [
      "1 \n",
      "3 2 \n",
      "6 5 4 \n",
      "10 9 8 7 \n"
     ]
    }
   ],
   "source": [
    "# reverse number pattern 10 to 1\n",
    "start = 1\n",
    "stop = 2\n",
    "current_num = stop\n",
    "for row in range(2, 6):\n",
    "    for col in range(start, stop):\n",
    "        current_num -= 1\n",
    "        print(current_num, end=' ')\n",
    "    print(\"\")\n",
    "    start = stop\n",
    "    stop += row\n",
    "    current_num = stop"
   ]
  },
  {
   "cell_type": "code",
   "execution_count": 12,
   "id": "a01c8631",
   "metadata": {},
   "outputs": [
    {
     "name": "stdout",
     "output_type": "stream",
     "text": [
      "          1  \n",
      "        1 2  \n",
      "      1 2 3  \n",
      "    1 2 3 4  \n",
      "  1 2 3 4 5  \n"
     ]
    }
   ],
   "source": [
    "# traingle pattern with numbers\n",
    "rows = 6\n",
    "for i in range(1, rows):\n",
    "    num = 1\n",
    "    for j in range(rows, 0, -1):\n",
    "        if j > i:\n",
    "            print(\" \", end=' ')\n",
    "        else:\n",
    "            print(num, end=' ')\n",
    "            num += 1\n",
    "    print(\" \")"
   ]
  },
  {
   "cell_type": "code",
   "execution_count": 13,
   "id": "3884c4e6",
   "metadata": {},
   "outputs": [
    {
     "name": "stdout",
     "output_type": "stream",
     "text": [
      "\n",
      "1 \n",
      "1 2 1 \n",
      "1 2 3 2 1 \n",
      "1 2 3 4 3 2 1 \n",
      "1 2 3 4 5 4 3 2 1 \n",
      "1 2 3 4 5 6 5 4 3 2 1 \n",
      "1 2 3 4 5 6 7 6 5 4 3 2 1 \n"
     ]
    }
   ],
   "source": [
    "rows = 8\n",
    "for i in range(1, rows + 1):\n",
    "    for j in range(1, i - 1):\n",
    "        print(j, end = ' ')\n",
    "    for j in range(i - 1, 0, -1):\n",
    "        print(j, end = ' ')\n",
    "    print()"
   ]
  },
  {
   "cell_type": "code",
   "execution_count": 14,
   "id": "3cc0a8a7",
   "metadata": {},
   "outputs": [
    {
     "name": "stdout",
     "output_type": "stream",
     "text": [
      "1 \n",
      "1 1 \n",
      "1 2 1 \n",
      "1 3 3 1 \n",
      "1 4 6 4 1 \n",
      "1 5 10 10 5 1 \n",
      "1 6 15 20 15 6 1 \n"
     ]
    }
   ],
   "source": [
    "# pascal traingle pattern with numbers \n",
    "def print_pascal_triangle(size):\n",
    "    for i in range(0, size):\n",
    "        for j in range(0, i + 1):\n",
    "            print(decide_number(i, j), end=\" \")\n",
    "        print()\n",
    "def decide_number(n, k):\n",
    "    num = 1\n",
    "    if k > n - k:\n",
    "        k = n - k\n",
    "    for i in range(0, k):\n",
    "        num = num * (n - i)\n",
    "        num = num // (i + 1)\n",
    "    return num\n",
    "\n",
    "# set rows\n",
    "rows = 7\n",
    "print_pascal_triangle(rows)"
   ]
  },
  {
   "cell_type": "code",
   "execution_count": 15,
   "id": "a304d64d",
   "metadata": {},
   "outputs": [
    {
     "name": "stdout",
     "output_type": "stream",
     "text": [
      "1 2 3 4 5 \n",
      "2 2 3 4 5 \n",
      "3 3 3 4 5 \n",
      "4 4 4 4 5 \n",
      "5 5 5 5 5 \n"
     ]
    }
   ],
   "source": [
    "# square pattern numbers \n",
    "rows = 5\n",
    "for i in range(1, rows + 1):\n",
    "    for j in range(1, rows + 1):\n",
    "        if j <= i:\n",
    "            print(i, end=' ')\n",
    "        else:\n",
    "            print(j, end=' ')\n",
    "    print()"
   ]
  },
  {
   "cell_type": "code",
   "execution_count": 16,
   "id": "9e7006f9",
   "metadata": {},
   "outputs": [
    {
     "name": "stdout",
     "output_type": "stream",
     "text": [
      "1  \n",
      "2  4  \n",
      "3  6  9  \n",
      "4  8  12  16  \n",
      "5  10  15  20  25  \n",
      "6  12  18  24  30  36  \n",
      "7  14  21  28  35  42  49  \n",
      "8  16  24  32  40  48  56  64  \n"
     ]
    }
   ],
   "source": [
    "# multiplication pattern \n",
    "rows = 8\n",
    "# rows = int(input(\"Enter the number of rows \"))\n",
    "for i in range(1, rows + 1):\n",
    "    for j in range(1, i + 1):\n",
    "        # multiplication current column and row\n",
    "        square = i * j\n",
    "        print(i * j, end='  ')\n",
    "    print()"
   ]
  },
  {
   "cell_type": "code",
   "execution_count": 17,
   "id": "6ae3e02d",
   "metadata": {},
   "outputs": [
    {
     "name": "stdout",
     "output_type": "stream",
     "text": [
      "\n",
      "1 \n",
      "2 4 \n",
      "3 6 9 \n",
      "4 8 12 16 \n",
      "5 10 15 20 25 \n",
      "6 12 18 24 30 36 \n",
      "7 14 21 28 35 42 49 \n",
      "8 16 24 32 40 48 56 64 \n"
     ]
    }
   ],
   "source": [
    "# Multiplication table pattern \n",
    "rows = 9\n",
    "for i in range(0, rows):\n",
    "    for j in range(1, i + 1):\n",
    "        print(i * j, end=' ')\n",
    "    print()"
   ]
  },
  {
   "cell_type": "code",
   "execution_count": 18,
   "id": "b8841067",
   "metadata": {},
   "outputs": [
    {
     "name": "stdout",
     "output_type": "stream",
     "text": [
      "5 4 3 2 1 1 2 3 4 5 \n",
      "\n",
      "5 4 3 2 2 3 4 5 \n",
      "\n",
      "5 4 3 3 4 5 \n",
      "\n",
      "5 4 4 5 \n",
      "\n",
      "5 5 \n",
      "\n",
      "\n",
      "\n"
     ]
    }
   ],
   "source": [
    "rows = 6\n",
    "for i in range(0, rows):\n",
    "    for j in range(rows - 1, i, -1):\n",
    "        print(j, '', end='')\n",
    "    for l in range(i):\n",
    "        print('', end='')\n",
    "    for k in range(i + 1, rows):\n",
    "        print(k, '', end='')\n",
    "    print('\\n')"
   ]
  },
  {
   "cell_type": "code",
   "execution_count": 19,
   "id": "008ac878",
   "metadata": {},
   "outputs": [
    {
     "name": "stdout",
     "output_type": "stream",
     "text": [
      "* \r\n",
      "* * \r\n",
      "* * * \r\n",
      "* * * * \r\n",
      "* * * * * \r\n"
     ]
    }
   ],
   "source": [
    "# simple half pyramid with stars \n",
    "# number of rows\n",
    "rows = 5\n",
    "for i in range(0, rows):\n",
    "    # nested loop for each column\n",
    "    for j in range(0, i + 1):\n",
    "        # print star\n",
    "        print(\"*\", end=' ')\n",
    "    # new line after each row\n",
    "    print(\"\\r\")"
   ]
  },
  {
   "cell_type": "code",
   "execution_count": 20,
   "id": "ec889ef7",
   "metadata": {},
   "outputs": [
    {
     "name": "stdout",
     "output_type": "stream",
     "text": [
      "        * \n",
      "      * * \n",
      "    * * * \n",
      "  * * * * \n",
      "* * * * * \n"
     ]
    }
   ],
   "source": [
    "# right traingle pyramid\n",
    "# number of rows\n",
    "rows = 5\n",
    "k = 2 * rows - 2\n",
    "for i in range(0, rows):\n",
    "    # process each column\n",
    "    for j in range(0, k):\n",
    "        # print space in pyramid\n",
    "        print(end=\" \")\n",
    "    k = k - 2\n",
    "    for j in range(0, i + 1):\n",
    "        # display star\n",
    "        print(\"* \", end=\"\")\n",
    "    print(\"\")"
   ]
  },
  {
   "cell_type": "code",
   "execution_count": 21,
   "id": "ec1479e3",
   "metadata": {},
   "outputs": [
    {
     "name": "stdout",
     "output_type": "stream",
     "text": [
      "        * * * * * * \n",
      "         * * * * * \n",
      "          * * * * \n",
      "           * * * \n",
      "            * * \n",
      "             * \n"
     ]
    }
   ],
   "source": [
    "# full pyramid facing down \n",
    "rows = 5\n",
    "k = 2 * rows - 2\n",
    "for i in range(rows, -1, -1):\n",
    "    for j in range(k, 0, -1):\n",
    "        print(end=' ')\n",
    "    k = k + 1\n",
    "    for j in range(0, i + 1):\n",
    "        print('*', end=' ')\n",
    "    print('')"
   ]
  },
  {
   "cell_type": "code",
   "execution_count": 22,
   "id": "387d1eab",
   "metadata": {},
   "outputs": [
    {
     "name": "stdout",
     "output_type": "stream",
     "text": [
      "* * * * * \n",
      "  * * * * \n",
      "    * * * \n",
      "      * * \n",
      "        * \n"
     ]
    }
   ],
   "source": [
    "# mirror pattern \n",
    "rows = 5\n",
    "i = rows\n",
    "while i >= 1:\n",
    "    j = rows\n",
    "    while j > i:\n",
    "        # display space\n",
    "        print(' ', end=' ')\n",
    "        j -= 1\n",
    "    k = 1\n",
    "    while k <= i:\n",
    "        print('*', end=' ')\n",
    "        k += 1\n",
    "    print()\n",
    "    i -= 1"
   ]
  },
  {
   "cell_type": "code",
   "execution_count": 23,
   "id": "568f9d20",
   "metadata": {},
   "outputs": [
    {
     "name": "stdout",
     "output_type": "stream",
     "text": [
      "              *  \n",
      "             * *  \n",
      "            * * *  \n",
      "           * * * *  \n",
      "          * * * * *  \n",
      "         * * * * * *  \n",
      "        * * * * * * *  \n",
      "       * * * * * * * *  \n"
     ]
    }
   ],
   "source": [
    "# equilateral traingle \n",
    "size = 8\n",
    "s = (2 * size) - 2\n",
    "for i in range(0, size):\n",
    "    for j in range(0, s):\n",
    "        print(end = ' ')\n",
    "    s = s - 1 # decrementing s after each loop\n",
    "    for j in range(0, i + 1):\n",
    "        # printing full Triangle pyramid using stars\n",
    "        print('*', end = ' ')\n",
    "    print(' ')"
   ]
  },
  {
   "cell_type": "code",
   "execution_count": 24,
   "id": "e117a5c3",
   "metadata": {},
   "outputs": [
    {
     "name": "stdout",
     "output_type": "stream",
     "text": [
      "*  \n",
      "* *  \n",
      "* * *  \n",
      "* * * *  \n",
      "* * * * *  \n",
      "* * * * * *  \n",
      " \n",
      "* * * * * *  \n",
      "* * * * *  \n",
      "* * * *  \n",
      "* * *  \n",
      "* *  \n",
      "*  \n",
      " \n"
     ]
    }
   ],
   "source": [
    "# 2 pyramid of stars\n",
    "rows = 6\n",
    "for i in range(0, rows):\n",
    "    for j in range(0, i + 1):\n",
    "        print(\"*\", end=' ')\n",
    "    print(\" \")\n",
    "print(\" \")\n",
    "for i in range(rows + 1, 0, -1):\n",
    "    for j in range(0, i - 1):\n",
    "        print(\"*\", end=' ')\n",
    "    print(\" \")"
   ]
  },
  {
   "cell_type": "code",
   "execution_count": 25,
   "id": "4a9fdeae",
   "metadata": {},
   "outputs": [
    {
     "name": "stdout",
     "output_type": "stream",
     "text": [
      "* \r\n",
      "* * \r\n",
      "* * * \r\n",
      "* * * * \r\n",
      "* * * * * \r\n",
      "* * * * \r\n",
      "* * * \r\n",
      "* * \r\n",
      "* \r\n",
      "\r\n"
     ]
    }
   ],
   "source": [
    "# right arrow pattern\n",
    "rows = 5\n",
    "for i in range(0, rows):\n",
    "    for j in range(0, i + 1):\n",
    "        print(\"*\", end=' ')\n",
    "    print(\"\\r\")\n",
    "for i in range(rows, 0, -1):\n",
    "    for j in range(0, i - 1):\n",
    "        print(\"*\", end=' ')\n",
    "    print(\"\\r\")"
   ]
  },
  {
   "cell_type": "code",
   "execution_count": 26,
   "id": "8445bd9c",
   "metadata": {},
   "outputs": [
    {
     "name": "stdout",
     "output_type": "stream",
     "text": [
      "        * \n",
      "      * * \n",
      "    * * * \n",
      "  * * * * \n",
      "* * * * * \n",
      "  * * * * \n",
      "    * * * \n",
      "      * * \n",
      "        * \n",
      "          \n"
     ]
    }
   ],
   "source": [
    "# left arrow pattern\n",
    "rows = 5\n",
    "i = 1\n",
    "while i <= rows:\n",
    "    j = i\n",
    "    while j < rows:\n",
    "        # display space\n",
    "        print(' ', end=' ')\n",
    "        j += 1\n",
    "    k = 1\n",
    "    while k <= i:\n",
    "        print('*', end=' ')\n",
    "        k += 1\n",
    "    print()\n",
    "    i += 1\n",
    "i = rows\n",
    "while i >= 1:\n",
    "    j = i\n",
    "    while j <= rows:\n",
    "        print(' ', end=' ')\n",
    "        j += 1\n",
    "    k = 1\n",
    "    while k < i:\n",
    "        print('*', end=' ')\n",
    "        k += 1\n",
    "    print('')\n",
    "    i -= 1"
   ]
  },
  {
   "cell_type": "code",
   "execution_count": 27,
   "id": "0b3605b5",
   "metadata": {},
   "outputs": [
    {
     "name": "stdout",
     "output_type": "stream",
     "text": [
      "* * * * * \n",
      " * * * * \n",
      "  * * * \n",
      "   * * \n",
      "    * \n",
      "    * \n",
      "   * * \n",
      "  * * * \n",
      " * * * * \n",
      "* * * * * \n"
     ]
    }
   ],
   "source": [
    "# sandglass pattern\n",
    "rows = 5\n",
    "i = 0\n",
    "while i <= rows - 1:\n",
    "    j = 0\n",
    "    while j < i:\n",
    "        # display space\n",
    "        print('', end=' ')\n",
    "        j += 1\n",
    "    k = i\n",
    "    while k <= rows - 1:\n",
    "        print('*', end=' ')\n",
    "        k += 1\n",
    "    print()\n",
    "    i += 1\n",
    "\n",
    "i = rows - 1\n",
    "while i >= 0:\n",
    "    j = 0\n",
    "    while j < i:\n",
    "        print('', end=' ')\n",
    "        j += 1\n",
    "    k = i\n",
    "    while k <= rows - 1:\n",
    "        print('*', end=' ')\n",
    "        k += 1\n",
    "    print('')\n",
    "    i -= 1"
   ]
  },
  {
   "cell_type": "code",
   "execution_count": 28,
   "id": "4ec9527e",
   "metadata": {},
   "outputs": [
    {
     "name": "stdout",
     "output_type": "stream",
     "text": [
      "**************\n",
      "******__******\n",
      "*****____*****\n",
      "****______****\n",
      "***________***\n",
      "**__________**\n",
      "*____________*\n"
     ]
    }
   ],
   "source": [
    "# pant style pattern\n",
    "rows = 14\n",
    "print(\"*\" * rows, end=\"\\n\")\n",
    "i = (rows // 2) - 1\n",
    "j = 2\n",
    "while i != 0:\n",
    "    while j <= (rows - 2):\n",
    "        print(\"*\" * i, end=\"\")\n",
    "        print(\"_\" * j, end=\"\")\n",
    "        print(\"*\" * i, end=\"\\n\")\n",
    "        i = i - 1\n",
    "        j = j + 2"
   ]
  },
  {
   "cell_type": "code",
   "execution_count": null,
   "id": "a9edf6a4",
   "metadata": {},
   "outputs": [],
   "source": []
  },
  {
   "cell_type": "code",
   "execution_count": null,
   "id": "b374e185",
   "metadata": {},
   "outputs": [],
   "source": []
  }
 ],
 "metadata": {
  "kernelspec": {
   "display_name": "Python 3",
   "language": "python",
   "name": "python3"
  },
  "language_info": {
   "codemirror_mode": {
    "name": "ipython",
    "version": 3
   },
   "file_extension": ".py",
   "mimetype": "text/x-python",
   "name": "python",
   "nbconvert_exporter": "python",
   "pygments_lexer": "ipython3",
   "version": "3.8.8"
  }
 },
 "nbformat": 4,
 "nbformat_minor": 5
}
